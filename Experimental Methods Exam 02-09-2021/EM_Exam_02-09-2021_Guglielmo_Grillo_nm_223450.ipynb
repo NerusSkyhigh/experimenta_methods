{
 "cells": [
  {
   "cell_type": "markdown",
   "metadata": {},
   "source": [
    "# Experimental Methods Exam February 2021\n",
    "\n",
    "\\- Gugliemo Grillo  \n",
    "MAT. 223450\n",
    "\n",
    "Zoom link: https://unitn.zoom.us/j/96470214715  \n",
    "Meeting ID: 964 7021 4715  \n",
    "Passcode: 278896  \n",
    "\n",
    "Email:\n",
    "- [stefano.vitale@unitn.it](mailto:stefano.vitale@unitn.it)"
   ]
  },
  {
   "cell_type": "markdown",
   "metadata": {},
   "source": [
    "I start by evaluating the true value for $\\beta$ and $k$. These are found by solving:\n",
    "\n",
    "$$ (2\\pi \\nu)^2 = \\omega _0 ^2 = \\frac{k}{m} \\longrightarrow k = m (2\\pi \\nu)^2$$\n",
    "\n",
    "$$ Q^2 = \\frac{m^2}{\\beta^2} \\frac{k}{m} = \\frac{m k}{\\beta^2} \\longrightarrow \\beta = \\frac{\\sqrt{m k}}{Q}$$\n"
   ]
  },
  {
   "cell_type": "code",
   "execution_count": 1,
   "metadata": {},
   "outputs": [
    {
     "data": {
      "text/latex": [
       "$\\displaystyle k = m (2\\pi \\nu)^2=1.9739e+04\\ Hz^2\\ kg$"
      ],
      "text/plain": [
       "<IPython.core.display.Math object>"
      ]
     },
     "metadata": {},
     "output_type": "display_data"
    },
    {
     "data": {
      "text/latex": [
       "$\\displaystyle \\beta = \\frac{\\sqrt{m k}}{Q} =3.1416e-10\\ kg\\ Hz$"
      ],
      "text/plain": [
       "<IPython.core.display.Math object>"
      ]
     },
     "metadata": {},
     "output_type": "display_data"
    }
   ],
   "source": [
    "# packages used\n",
    "import scipy.constants # https://docs.scipy.org/doc/scipy/reference/constants.html\n",
    "from scipy.integrate import quad\n",
    "import numpy as np\n",
    "import matplotlib.pyplot as plt\n",
    "from IPython.display import display, Math\n",
    "\n",
    "\n",
    "# Given parameters\n",
    "kb = scipy.constants.Boltzmann # J/K\n",
    "h = scipy.constants.h\n",
    "c = scipy.constants.c\n",
    "\n",
    "Nu = 1e9 # Hz\n",
    "m = 0.5e-15 # Kg\n",
    "Cs = 5e-15 # Faraday\n",
    "Im = 100e-6 # Watt\n",
    "Lambda = 1e-6 # m\n",
    "Rho = 0.1\n",
    "Q = 10000\n",
    "Cp = 60e-15 # Faraday\n",
    "d = 5e-12 # m/V\n",
    "Iref = 100e-3 # Watt\n",
    "T = 4 #K\n",
    "\n",
    "# Extra parameters\n",
    "Omega0 = 2*np.pi*Nu\n",
    "k = m*Omega0**2\n",
    "Beta = np.sqrt(m*k)/Q\n",
    "\n",
    "# Show value\n",
    "display(Math(r\"k = m (2\\pi \\nu)^2=\"+\"{:.5}\".format(k)+r\"\\ Hz^2\\ kg\"))\n",
    "display(Math(r\"\\beta = \\frac{\\sqrt{m k}}{Q} =\"+\"{:.5}\".format(Beta)+r\"\\ kg\\ Hz\"))"
   ]
  },
  {
   "cell_type": "markdown",
   "metadata": {},
   "source": [
    "### Question 1  \n",
    "The transfer function between $V_s$ and $x$ can be obtained by solving the coupled equations given and by noticing that the relation between the input voltage $V_s$ and the current is (I'm using $\\partial$ instead of $d$ to avoid confusion with the constant):\n",
    "$$ I = C_s \\frac{\\partial (V_s - V)}{\\partial t} \\longrightarrow I(\\omega) =i \\omega C_s (V_s-V)$$\n",
    "This relation with the other two given leads to:\n",
    "$$x(\\omega) = \\frac{C_s d}{C_p - C_S} V_s(\\omega) + \\bigl( \\frac{d^2}{C_p + C_s} - \\frac{1}{k} \\bigr)F(\\omega) \\simeq \n",
    "\\frac{C_s d}{C_p + C_S} V_s - \\frac{1}{k}F(\\omega)$$\n",
    "\n",
    "Where I dropped the therm $\\frac{d^2}{C_p + C_s}$ as it's a lot smaller than $\\frac{1}{k}$."
   ]
  },
  {
   "cell_type": "code",
   "execution_count": 2,
   "metadata": {},
   "outputs": [
    {
     "data": {
      "text/latex": [
       "$\\displaystyle \\frac{d^2}{C_p - C_s}=4.5455e-10\\ \\frac{m^2}{V^2 F}$"
      ],
      "text/plain": [
       "<IPython.core.display.Math object>"
      ]
     },
     "metadata": {},
     "output_type": "display_data"
    },
    {
     "data": {
      "text/latex": [
       "$\\displaystyle \\frac{1}{k} =5.0661e-05\\ Hz^{-2}\\ kg^{-1}$"
      ],
      "text/plain": [
       "<IPython.core.display.Math object>"
      ]
     },
     "metadata": {},
     "output_type": "display_data"
    }
   ],
   "source": [
    "# Here unit of measurements don't seem to be right, but I'm pretty sure the circuit \n",
    "# analysis is correct.\n",
    "display(Math(r\"\\frac{d^2}{C_p - C_s}=\"+\"{:.5}\".format(d**2 / (Cp - Cs))+\n",
    "             r\"\\ \\frac{m^2}{V^2 F}\"))\n",
    "display(Math(r\"\\frac{1}{k} =\"+\"{:.5}\".format(1/k)+r\"\\ Hz^{-2}\\ kg^{-1}\"))"
   ]
  },
  {
   "cell_type": "markdown",
   "metadata": {},
   "source": [
    "This formula can be further expanded by considering the relation between the force and the displacement (harmonic oscillator):\n",
    "\n",
    "$$ \\ddot{x} + \\frac{\\omega_0}{Q}\\dot{x} + \\omega_0^2 x = \\frac{F}{m} \\longrightarrow F(\\omega) = (-\\omega^2+ \\frac{i\\omega_0}{Q}\\omega + \\omega_0^2 )m\\ x(\\omega)$$\n",
    "\n",
    "This implies \n",
    "$$x(\\omega) ( 1 + \\frac{1}{k}(\\omega^2 - \\frac{i\\omega_0}{Q}\\omega - \\omega_0^2 ) ) = \\frac{C_s d}{C_p + C_S} V_s$$\n",
    "\n",
    "$$h(\\omega) = \\frac{V_s(\\omega)}{x(\\omega)} = \\frac{C_p + C_S}{C_s d}+ \\frac{C_p + C_s}{C_s d k}(\\omega^2 - \\frac{i\\omega_0}{Q}\\omega - \\omega_0^2 )$$\n",
    "\n",
    "Which is the transfer function from $X(\\omega)$ to $V_s(\\omega)$. I can obtain the transfer function from $V_s(\\omega)$ to $X(\\omega)$ by taking the reciprocal. It's possible to lighten the notation by choosing:\n",
    "\n",
    "$$\\frac{1}{\\omega_1^2} = \\frac{C_p + C_s}{C_s d k} $$\n",
    "\n",
    "$$\\frac{1}{\\omega_2} = \\frac{(C_p + C_s) \\omega_0}{Q C_s d k} $$\n",
    "\n",
    "$$\\frac{1}{\\omega_3} = \\frac{C_p + C_S}{C_s d} -\\frac{C_p+C_s}{C_s d k}\\omega_0^2$$"
   ]
  },
  {
   "cell_type": "code",
   "execution_count": 3,
   "metadata": {},
   "outputs": [
    {
     "data": {
      "text/latex": [
       "$\\displaystyle \\frac{1}{ \\omega_1^2} =1.3172e+08$"
      ],
      "text/plain": [
       "<IPython.core.display.Math object>"
      ]
     },
     "metadata": {},
     "output_type": "display_data"
    },
    {
     "data": {
      "text/latex": [
       "$\\displaystyle \\frac{1}{\\omega_2} =8.2761e+13$"
      ],
      "text/plain": [
       "<IPython.core.display.Math object>"
      ]
     },
     "metadata": {},
     "output_type": "display_data"
    },
    {
     "data": {
      "text/latex": [
       "$\\displaystyle \\frac{1}{\\omega_3} =-5.2e+27$"
      ],
      "text/plain": [
       "<IPython.core.display.Math object>"
      ]
     },
     "metadata": {},
     "output_type": "display_data"
    }
   ],
   "source": [
    "Omega12 = Cs*d*k/(Cp + Cs)\n",
    "Omega2 = Q*Cs*d*k/( (Cp+Cs)*Omega0)\n",
    "Omega3 = ( (Cp+Cs)/(Cs*d) - (Cp+Cs)/(Cs*d*k)*Omega0**2 )**-1\n",
    "\n",
    "display(Math(r\"\\frac{1}{ \\omega_1^2} =\"+\"{:.5}\".format(1/Omega12) ))\n",
    "display(Math(r\"\\frac{1}{\\omega_2} =\"+\"{:.5}\".format(1/Omega2) ))\n",
    "display(Math(r\"\\frac{1}{\\omega_3} =\"+\"{:.5}\".format(1/Omega3) ))"
   ]
  },
  {
   "cell_type": "markdown",
   "metadata": {},
   "source": [
    "So that:\n",
    "\n",
    "$$h(\\omega) = \\frac{\\omega^2}{\\omega_1 ^2} - i \\frac{\\omega}{\\omega_2} + \\frac{1}{\\omega^3}$$\n",
    "\n",
    "$$\\frac{x(\\omega)}{V_s(\\omega)} = \\frac{1}{\\frac{\\omega^2}{\\omega_1 ^2} - i \\frac{\\omega}{\\omega_2} + \\frac{1}{\\omega^3}}$$\n",
    "\n",
    "It's mandatory to highlight the high magnitude of $\\frac{1}{\\omega_3}$ which dominates the frequency response up to $GHz$."
   ]
  },
  {
   "cell_type": "code",
   "execution_count": 4,
   "metadata": {},
   "outputs": [
    {
     "data": {
      "image/png": "[encoded data removed]",
      "text/plain": [
       "<Figure size 720x432 with 1 Axes>"
      ]
     },
     "metadata": {
      "needs_background": "light"
     },
     "output_type": "display_data"
    }
   ],
   "source": [
    "def transfer_function(omega):\n",
    "    return 1/ ( np.power(omega,2)/Omega12 - 1j*omega/Omega2 + 1/Omega3 )\n",
    "\n",
    "omega = np.logspace(8, 11, num=int(1e6), endpoint=True, base=10)\n",
    "y = np.abs( transfer_function(omega) )\n",
    "\n",
    "plt.rcParams.update({'font.size': 13})\n",
    "\n",
    "fig, axis = plt.subplots(1,1, figsize=(10, 6))\n",
    "fig.suptitle(\"Plot of the transfer function\")\n",
    "\n",
    "axis.set_xscale(\"log\")\n",
    "axis.set_yscale(\"log\")\n",
    "axis.plot(omega, y)\n",
    "axis.set_xlabel(r\"Angular Frequency $\\omega=2\\pi f$ [Hz]\")\n",
    "axis.set_ylabel(r\"$|\\frac{x(\\omega)}{V_s(\\omega)}|$\")\n",
    "axis.grid(True, which=\"both\")\n",
    "\n",
    "plt.tight_layout()\n",
    "plt.show()"
   ]
  },
  {
   "cell_type": "markdown",
   "metadata": {},
   "source": [
    "### Question 2  \n",
    "As the mass is very small it's subjected to the effect of the Brownian noise. Its PSD (one sided) can be evaluated via the fluctuation-dissipation theorem:\n",
    "\n",
    "$$S_{x,x}^{th, 1S} = \\frac{S_{V_s,V_s}^{th, 1S}}{|h(\\omega)|^2}= \\frac{1}{|h(\\omega)|^2} 4 k_b T \\frac{\\mathcal{Im}[h(\\omega)]}{\\omega} \n",
    "= \\frac{4 k_b T}{\\omega_2 |h(\\omega)|^2} = \\frac{4 k_b T}{\\omega_2}\\frac{1}{(\\frac{\\omega^2}{\\omega_1 ^2}+\\frac{1}{\\omega^3})^2  + (\\frac{\\omega}{\\omega_2})^2 }$$"
   ]
  },
  {
   "cell_type": "code",
   "execution_count": 6,
   "metadata": {},
   "outputs": [
    {
     "data": {
      "image/png": "[encoded data removed]",
      "text/plain": [
       "<Figure size 504x360 with 1 Axes>"
      ]
     },
     "metadata": {
      "needs_background": "light"
     },
     "output_type": "display_data"
    }
   ],
   "source": [
    "def brownian_noise(omega):\n",
    "    return 4*kb*T/Omega2 * 1/( np.power((np.power(omega, 2)/Omega12 + 1/Omega3),2 )\n",
    "                              + np.power(omega/Omega2,2) )\n",
    "    \n",
    "omega = np.logspace(8, 11, num=int(1e6), endpoint=True, base=10)\n",
    "y = brownian_noise(omega)\n",
    "\n",
    "plt.rcParams.update({'font.size': 13})\n",
    "\n",
    "fig, axis = plt.subplots(1,1, figsize=(7, 5))\n",
    "fig.suptitle(\"Plot of brownian noise\")\n",
    "\n",
    "axis.set_xscale(\"log\")\n",
    "axis.set_yscale(\"log\")\n",
    "axis.plot(omega, y)\n",
    "axis.set_xlabel(r\"Angular Frequency $\\omega=2\\pi f$ [Hz]\")\n",
    "axis.set_ylabel(r\"Brownian noise $S_{x,x}^{th, 1S}$\")\n",
    "axis.grid(True, which=\"both\")\n",
    "\n",
    "plt.tight_layout()\n",
    "plt.show()"
   ]
  },
  {
   "cell_type": "markdown",
   "metadata": {},
   "source": [
    "### Question 3\n",
    "The noise due to the intrinsic fluctuation of the beam is the shot noise associated to the arrive of the photons itself. The shot noise for the two beams is therefore proportional to their intensity:\n",
    "\n",
    "$$ S_{I_1, I_1}^{1S}(\\omega) = 2\\frac{h\\lambda}{c} I_1 = \\frac{h\\lambda}{c}(I_{ref}+I_m -\\sqrt{I_m I_ref}) cos(\\Delta \\phi)$$\n",
    "$$ S_{I_2, I_2}^{1S}(\\omega) = 2\\frac{h\\lambda}{c} I_2 = \\frac{h\\lambda}{c}(I_{ref}+I_m + \\sqrt{I_m I_ref}) cos(\\Delta \\phi)$$\n",
    "\n",
    "I'm asked for the readout noise which is proportional to $cos(\\Delta \\phi)$. The assignment says that the phase is freely adjustable withing $2\\pi$ so I resolve to set it so that $cos(\\Delta \\phi) \\rightarrow sin(\\Delta \\phi) \\simeq \\Delta \\phi$. This is done in order to linearize the expression. This angle is therefore proportional to the difference between the intensities:\n",
    "$$ I_1 - I_2 = \\sqrt{I_m I_{ref}} \\ \\Delta \\phi$$\n",
    "\n",
    "This means that it's PSD is proportional to the sum of the two single PSD:\n",
    "\n",
    "$$ S_{\\Delta \\phi, \\Delta \\phi}^{1S}(\\omega) = \\frac{S_{I_1, I_1}^{1S}(\\omega) + S_{I_2, I_2}^{1S}(\\omega)}{ \\sqrt{I_m I_{ref}} ^2} =\\frac{2h\\lambda}{c} \\frac{I_{ref}+I_{m}}{I_{ref} I_m}$$\n",
    "\n",
    "The relation between the angle and the displacement $\\delta x$ is:\n",
    "\n",
    "$$ \\delta x = -\\frac{1}{2}\\delta l = -\\frac{1}{2} \\Delta \\phi \\lambda$$\n",
    "\n",
    "The beam PSD can then be expressed as displacement PSD:\n",
    "$$ S_{x, x}^{beam, 1S}(\\omega) = \\frac{\\lambda ^2}{4} S_{\\Delta \\phi, \\Delta \\phi}(\\omega) =\n",
    "\\frac{h \\lambda ^4}{2 c^2} \\frac{I_{ref}+I_{m}}{I_{ref} I_m}$$\n",
    "\n",
    "This value is definitely negligible if compared to the Brownian noise which has magnitude between at $10^{-64}$ and $10^{-55}$ around resonance."
   ]
  },
  {
   "cell_type": "code",
   "execution_count": 7,
   "metadata": {},
   "outputs": [
    {
     "data": {
      "text/latex": [
       "$\\displaystyle S_{x, x}^{beam, 1S}(\\omega) =3.6899e-71$"
      ],
      "text/plain": [
       "<IPython.core.display.Math object>"
      ]
     },
     "metadata": {},
     "output_type": "display_data"
    }
   ],
   "source": [
    "Sshot = h*Lambda**4 /(2*c**2) * (Iref + Im)/(Iref * Im)\n",
    "display(Math(r\"S_{x, x}^{beam, 1S}(\\omega) =\"+\"{:.5}\".format(Sshot) ))"
   ]
  },
  {
   "cell_type": "markdown",
   "metadata": {},
   "source": [
    "### Question 4\n",
    "\n",
    "I plot again the PSD graph around resonance"
   ]
  },
  {
   "cell_type": "code",
   "execution_count": 25,
   "metadata": {},
   "outputs": [
    {
     "data": {
      "image/png": "[encoded data removed]",
      "text/plain": [
       "<Figure size 1080x360 with 2 Axes>"
      ]
     },
     "metadata": {
      "needs_background": "light"
     },
     "output_type": "display_data"
    },
    {
     "data": {
      "text/latex": [
       "$\\displaystyle \\text{Angular Frequency corresponding to the peak:} =6.2832$"
      ],
      "text/plain": [
       "<IPython.core.display.Math object>"
      ]
     },
     "metadata": {},
     "output_type": "display_data"
    }
   ],
   "source": [
    "omega = np.logspace(8, 11, num=int(1e6), endpoint=True, base=10)\n",
    "y = brownian_noise(omega)\n",
    "\n",
    "plt.rcParams.update({'font.size': 13})\n",
    "\n",
    "fig, axis = plt.subplots(1,2, figsize=(15, 5))\n",
    "fig.suptitle(\"Plot of brownian noise\")\n",
    "\n",
    "axis[0].set_xscale(\"log\")\n",
    "axis[0].set_yscale(\"log\")\n",
    "axis[0].plot(omega, y)\n",
    "axis[0].set_xlabel(r\"Angular Frequency $\\omega=2\\pi f$ [Hz]\")\n",
    "axis[0].set_ylabel(r\"Brownian noise\")\n",
    "axis[0].grid(True, which=\"both\")\n",
    "\n",
    "axis[1].set_yscale(\"log\")\n",
    "axis[1].set_xlim([0.5e10, 0.7e10])\n",
    "axis[1].set_xticks([0.5e10, 6e9, 6.28e9, 6.5e9, 0.7e10])\n",
    "axis[1].plot(omega, y)\n",
    "axis[1].set_xlabel(r\"Angular Frequency $\\omega=2\\pi f$ [Hz]\")\n",
    "axis[1].set_ylabel(r\"Brownian noise\")\n",
    "axis[1].grid(True, which=\"both\")\n",
    "\n",
    "\n",
    "plt.tight_layout()\n",
    "plt.show()\n",
    "\n",
    "display(Math(r\"\\text{Angular Frequency corresponding to the peak:} =\"+\n",
    "             \"{:.5}\".format(omega[np.argmax(y, axis=0)]/1e9 )))\n"
   ]
  },
  {
   "cell_type": "markdown",
   "metadata": {},
   "source": [
    "The peak is located at $\\omega=6.28*10^{9} Hz \\rightarrow f=10^{9}$ Hz while the narrow line has an approximately width of $\\Delta f\\simeq(6.5-6)*10^9 Hz = 0.5 GHz$. As the shot noise is much smaller than the thermal noise the time needed to evaluated the PSD of the noise can be obtained trough Dicke's radiometric formula:\n",
    "$$\\rho = \\frac{1}{\\sqrt{\\Delta f T}} \\rightarrow T = \\frac{\\Delta f}{\\rho^2}$$"
   ]
  },
  {
   "cell_type": "code",
   "execution_count": 26,
   "metadata": {},
   "outputs": [
    {
     "data": {
      "text/latex": [
       "$\\displaystyle \\text{Minimum measurement time:} =5e+10 s\\simeq 1585 \\text{years}$"
      ],
      "text/plain": [
       "<IPython.core.display.Math object>"
      ]
     },
     "metadata": {},
     "output_type": "display_data"
    }
   ],
   "source": [
    "MeasurementTime = 0.5e9/Rho**2\n",
    "\n",
    "display(Math(r\"\\text{Minimum measurement time:} =\"+\n",
    "             \"{:.5} s\".format(MeasurementTime) + r\"\\simeq 1585 \\text{ years}\"))\n",
    "# Which is a very long time..."
   ]
  },
  {
   "cell_type": "markdown",
   "metadata": {},
   "source": [
    "### Question 5\n",
    "\n",
    "The minimum uncertainty can be evaluated thanks to Wiener's filter theory. As the input is a short pulse (template: $\\mathcal{FT}[\\delta(t)]=1$) the measurement time can be approximate as going from $-\\infty$ to $+\\infty$. The minimum uncertainty is therefore:\n",
    "\n",
    "$$ \\sigma ^2 = \\frac{1}{\\frac{1}{2\\pi}\\int_0^{+\\infty} SNR(\\omega) d\\omega}$$\n",
    "\n",
    "where $SNR$ is the signal to noise ratio defined as:\n",
    "\n",
    "$$ SNR(\\omega) = \\frac{|f(\\omega)|^2}{S_{x,x}(\\omega)} = \\frac{1}{ S_{x, x}^{beam, 1S}(\\omega)+ S_{x,x}^{th, 1S}} $$\n",
    "\n",
    "This integral can be performed numerically:"
   ]
  },
  {
   "cell_type": "code",
   "execution_count": 28,
   "metadata": {},
   "outputs": [
    {
     "data": {
      "text/latex": [
       "$\\displaystyle \\text{Value of the integral: }$I=9.4400e-61$\\text{   Absolute error: }1.75e-60$"
      ],
      "text/plain": [
       "<IPython.core.display.Math object>"
      ]
     },
     "metadata": {},
     "output_type": "display_data"
    },
    {
     "data": {
      "text/latex": [
       "$\\displaystyle \\sigma^2 =6.656e+60$"
      ],
      "text/plain": [
       "<IPython.core.display.Math object>"
      ]
     },
     "metadata": {},
     "output_type": "display_data"
    }
   ],
   "source": [
    "def integrand(omega):\n",
    "    return Sshot + brownian_noise(omega)\n",
    "\n",
    "I = quad(integrand, 0, np.inf)\n",
    "display(Math(r'$\\text{Value of the integral: }$'+'I={:.4e}'.format(I[0])+\n",
    "             r'$\\text{   Absolute error: }'+'{:.2e}'.format(I[1]) ))\n",
    "        \n",
    "sigma2 = 2*np.pi/I[0]\n",
    "display(Math('\\sigma^2 ={:.3e}'.format(sigma2)) )"
   ]
  },
  {
   "cell_type": "markdown",
   "metadata": {},
   "source": [
    "Which is a very high error, there is probably a mistake somewhere, but I can't find a way to find it out. My hypothesis is that is something related to the noise PSD as the integral heavily depends on it."
   ]
  }
 ],
 "metadata": {
  "kernelspec": {
   "display_name": "Python 3",
   "language": "python",
   "name": "python3"
  },
  "language_info": {
   "codemirror_mode": {
    "name": "ipython",
    "version": 3
   },
   "file_extension": ".py",
   "mimetype": "text/x-python",
   "name": "python",
   "nbconvert_exporter": "python",
   "pygments_lexer": "ipython3",
   "version": "3.8.6"
  },
  "latex_envs": {
   "LaTeX_envs_menu_present": true,
   "autoclose": false,
   "autocomplete": true,
   "bibliofile": "biblio.bib",
   "cite_by": "apalike",
   "current_citInitial": 1,
   "eqLabelWithNumbers": true,
   "eqNumInitial": 1,
   "hotkeys": {
    "equation": "Ctrl-E",
    "itemize": "Ctrl-I"
   },
   "labels_anchors": false,
   "latex_user_defs": false,
   "report_style_numbering": false,
   "user_envs_cfg": false
  }
 },
 "nbformat": 4,
 "nbformat_minor": 4
}
