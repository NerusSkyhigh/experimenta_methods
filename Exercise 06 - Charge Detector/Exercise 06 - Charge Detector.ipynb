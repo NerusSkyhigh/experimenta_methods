{
 "cells": [
  {
   "cell_type": "markdown",
   "metadata": {},
   "source": [
    "# Exercise 06: Charge Detector\n",
    "\\- Gugliemo Grillo"
   ]
  },
  {
   "cell_type": "markdown",
   "metadata": {},
   "source": [
    "<div><table>\n",
    "  <tr>\n",
    "    <td style=\"width: 55%\"><img src=\"https://i.ibb.co/zrbRZgp/Charge-Detector-1.png\"/></td>\n",
    "    <td style=\"width: 45%\"><img src=\"https://i.ibb.co/k312nV6/Charge-Detector-2.png\"/></td>\n",
    "  </tr>\n",
    "</table></div>\n",
    "\n",
    "### Temperature is assumed to be room temperature $T=293K$"
   ]
  },
  {
   "cell_type": "markdown",
   "metadata": {},
   "source": [
    "The resistor and the capacitor are in parallel. Thus the equivalent impedance can be written as:\n",
    "\n",
    "$$ Z_{eq}(\\omega) = \\bigl( \\frac{1}{R} + i\\omega C \\bigr)^{-1} = \\frac{R}{1+i \\omega RC} = \\frac{R}{1+i \\omega \\tau}$$\n",
    "\n",
    "where $\\tau = RC$. The characteristic equation of the circuit, in the frequency domain, is\n",
    "\n",
    "$$V(\\omega) = Z_{eq}(\\omega)I(\\omega) + V_n = Z_{eq}(\\omega)\\bigl[ I(\\omega) + \\frac{V_n}{Z_{eq}(\\omega)} \\bigr] $$\n",
    "\n",
    "Where the amplifier noise has been rewritten as an input noise. \n",
    "\n",
    "The power spectral densities of the two main components are:\n",
    "\\begin{itemize}\n",
    "\\item White noise from the Amplifier (from the graph given): $S_0\\simeq3.7\\ nV/\\sqrt{Hz}$\n",
    "\\item Impedance (from Nyquist-Johnson formula):\n",
    "    $$S_{V_Z, V_Z}=2 k_b T Re[Z_{eq}(\\omega)] = 2 k_b T \\frac{R}{1+\\omega ^2 \\tau^2}$$\n",
    "\\end{itemize}\n",
    "\n",
    "As the minimum error on input is asked, all the quantities will be brought to input. Regarding the PSD of the amplifier:\n",
    "$$ S_{I_n, I_n} = \\frac{V_n}{|H(\\omega)|^2} = S_0 \\frac{1+\\omega^2 \\tau^2 }{R^2}$$\n",
    "\n",
    "On the other hand, for the Nyquist-Johnson thermal noise:\n",
    "$$S_{I_Z, I_Z}=\\frac{S_{V_Z, V_Z}}{{|H(\\omega)|^2}} = 2 k_b T \\frac{R}{1+\\omega ^2 \\tau^2} \\frac{1+\\omega^2 \\tau^2 }{R^2} = \\frac{2 k_b T}{R} $$\n",
    "\n",
    "Assuming the two noise uncorrelated, the cumulative PSD is:\n",
    "$$S_{I, I} = S_{I_n, I_n} + S_{I_Z, I_Z} = S_0 \\frac{1+\\omega^2 \\tau^2 + 2 k_b T R }{R^2}$$\n",
    "\n",
    "\n",
    "The signal can be extracted with Wiener's optimal filter theory. The template of the signal is $\\mathcal{FT}\\bigl[\\delta(t) \\bigr](\\omega) = 1$. Minimum error is therefore:\n",
    "\n",
    "$$ \\sigma_e = \\bigl( \\frac{1}{2\\pi}\\int_{-\\infty}^{+\\infty}\\frac{1}{S_{I, I}(\\omega)}d\\omega \\bigr)^{1/2} =\n",
    "              \\bigl( \\frac{1}{2\\pi}\\int_{-\\infty}^{+\\infty} \\frac{R^2}{S_0(1+\\omega^2 \\tau^2 + 2 k_b T R) } d\\omega \\bigr)^{1/2} = \\bigl( \\frac{R^2}{S_0\\pi}\\int_{-\\infty}^{+\\infty} \\frac{1}{1+\\omega^2 \\tau^2 + 2 k_b T R} d\\omega \\bigr)^{1/2}$$"
   ]
  },
  {
   "cell_type": "code",
   "execution_count": 3,
   "metadata": {},
   "outputs": [
    {
     "data": {
      "text/latex": [
       "$\\displaystyle \\tau = 5.00000e-05 Hz$"
      ],
      "text/plain": [
       "<IPython.core.display.Math object>"
      ]
     },
     "metadata": {},
     "output_type": "display_data"
    }
   ],
   "source": [
    "# packages used\n",
    "import scipy.constants\n",
    "from scipy.integrate import quad\n",
    "\n",
    "import numpy as np\n",
    "import matplotlib.pyplot as plt\n",
    "import seaborn as sns\n",
    "\n",
    "from IPython.display import display, Math\n",
    "\n",
    "# Given constans\n",
    "kb = scipy.constants.Boltzmann\n",
    "T = 293 #K\n",
    "R = 100e3 #Ohm\n",
    "C = 500e-12 #F\n",
    "S0 = 3.7e-9 #V/sqrt(Hz) \n",
    "\n",
    "# Parameters redefinition\n",
    "TAU = R*C # [Hz]\n",
    "\n",
    "display(Math(r'\\tau = {:.5e} Hz'.format(TAU)))"
   ]
  },
  {
   "cell_type": "code",
   "execution_count": 4,
   "metadata": {},
   "outputs": [
    {
     "data": {
      "image/png": "[encoded data removed]",
      "text/plain": [
       "<Figure size 504x360 with 1 Axes>"
      ]
     },
     "metadata": {
      "needs_background": "light"
     },
     "output_type": "display_data"
    },
    {
     "name": "stdout",
     "output_type": "stream",
     "text": [
      "The value of the integral with his error is:\n"
     ]
    },
    {
     "data": {
      "text/latex": [
       "$\\displaystyle I=3.141592654e+04\\pm 2e-05$"
      ],
      "text/plain": [
       "<IPython.core.display.Math object>"
      ]
     },
     "metadata": {},
     "output_type": "display_data"
    },
    {
     "name": "stdout",
     "output_type": "stream",
     "text": [
      "The value of the minimum error is therefore:\n"
     ]
    },
    {
     "data": {
      "text/latex": [
       "$\\displaystyle \\sigma_e =2.426671155e-12$"
      ],
      "text/plain": [
       "<IPython.core.display.Math object>"
      ]
     },
     "metadata": {},
     "output_type": "display_data"
    }
   ],
   "source": [
    "def integrand(omega):\n",
    "    return 1/(1+np.power(omega, 2)*TAU**2+ 2*kb*T*R)\n",
    "\n",
    "# Bode plot\n",
    "plt.rcParams.update({'font.size': 15})\n",
    "fig, axis = plt.subplots(1,1, figsize=(7, 5))\n",
    "fig.suptitle('LogLog plot of the PSD')\n",
    "\n",
    "x = np.linspace(0, 1e6, int(1e5))\n",
    "plt.ticklabel_format(axis=\"both\", style=\"sci\", scilimits=(0,0)) \n",
    "axis.plot(x, integrand(x) )\n",
    "axis.set_xscale('log')\n",
    "axis.set_yscale('log')\n",
    "\n",
    "axis.set_xlabel(r\"$x\")\n",
    "axis.set_ylabel(r\"$\\omega$\")\n",
    "axis.grid(True, which=\"both\")\n",
    "\n",
    "fig.tight_layout()\n",
    "plt.show()\n",
    "\n",
    "I = 2*quad(integrand, 0, np.inf)\n",
    "print('The value of the integral with his error is:')\n",
    "display(Math(r'I={:.9e}\\pm {:.1}'.format(I[0], I[1])))\n",
    "\n",
    "SigmaE = np.power(2*R**2/S0 * I[0], -1/2)\n",
    "print(\"The value of the minimum error is therefore:\")\n",
    "display(Math(r'\\sigma_e ={:.9e}'.format(SigmaE)))"
   ]
  },
  {
   "cell_type": "markdown",
   "metadata": {},
   "source": [
    "It's then possible to reliably measure charge bigger than $q>2.4x10^{-12} C$."
   ]
  }
 ],
 "metadata": {
  "kernelspec": {
   "display_name": "Python 3",
   "language": "python",
   "name": "python3"
  },
  "language_info": {
   "codemirror_mode": {
    "name": "ipython",
    "version": 3
   },
   "file_extension": ".py",
   "mimetype": "text/x-python",
   "name": "python",
   "nbconvert_exporter": "python",
   "pygments_lexer": "ipython3",
   "version": "3.8.6"
  },
  "latex_envs": {
   "LaTeX_envs_menu_present": true,
   "autoclose": false,
   "autocomplete": true,
   "bibliofile": "biblio.bib",
   "cite_by": "apalike",
   "current_citInitial": 1,
   "eqLabelWithNumbers": true,
   "eqNumInitial": 1,
   "hotkeys": {
    "equation": "Ctrl-E",
    "itemize": "Ctrl-I"
   },
   "labels_anchors": false,
   "latex_user_defs": false,
   "report_style_numbering": false,
   "user_envs_cfg": false
  }
 },
 "nbformat": 4,
 "nbformat_minor": 4
}
