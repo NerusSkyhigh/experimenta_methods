{
 "cells": [
  {
   "cell_type": "markdown",
   "metadata": {},
   "source": [
    "# Exercise 07: Charge Detector\n",
    "\\- Gugliemo Grillo"
   ]
  },
  {
   "cell_type": "markdown",
   "metadata": {},
   "source": [
    "<div><table>\n",
    "  <tr>\n",
    "    <td><img src=\"https://i.ibb.co/zrbRZgp/Charge-Detector-1.png\"></td>\n",
    "    <td><img src=\"https://i.ibb.co/HFg67jf/Charge-Detector-2.png\"/></td>\n",
    "  </tr>\n",
    "</table></div>\n",
    "\n",
    "### Temperature is assumed to be room temperature $T=293K$"
   ]
  },
  {
   "cell_type": "markdown",
   "metadata": {},
   "source": [
    "We first notice that the resistor and the capacitor are in parallel. Thus we can write an equivalent impedance as:\n",
    "\n",
    "$$ Z_{eq}(\\omega) = \\bigl( \\frac{1}{R} + i\\omega C \\bigr)^{-1} = \\frac{R}{1+i \\omega RC}$$\n",
    "\n",
    "The characteristic equation of the circuit, in the frequency domain, is\n",
    "\n",
    "$$V(\\omega) = Z_{eq}(\\omega)I(\\omega) + V_n = Z_{eq}(\\omega)\\bigl[ I(\\omega) + \\frac{V_n}{Z_{eq}(\\omega)} \\bigr] $$\n",
    "\n",
    "Where the amplifier noise has been rewritten as an input noise.\n",
    "\n",
    "The power spectral densities of the two main components are:\n",
    "\\begin{itemize}\n",
    "\\item White noise from the Amplifier: $S_0\\simeq3.7\\ nV/\\sqrt{Hz}$\n",
    "\\item Impedance: $S_{V_Z, V_Z}=2 K_B T Re[Z_{eq}(\\omega)] = 2 K_B T \\frac{R}{1+\\omega ^2 (RC)^2}$\n",
    "\\end{itemize}\n",
    "\n",
    "We can then evaluate the the cumulative PSD as:\n",
    "\n",
    "$$S = 2 K_B T \\frac{R}{1+\\omega ^2 (RC)^2} + \\frac{S_0}{|Z_{eq}(\\omega)|^2} = 2 K_B T \\frac{R}{1+\\omega ^2 (RC)^2} + \\frac{R^2S_0}{1+\\omega ^2 (RC)^2} = (2 K_B T+ R S_0) \\frac{R}{1+\\omega ^2 (RC)^2}$$\n",
    "\n",
    "We can then use Wiener's optimal filter theory to evaluate the minimum variance assuming white noise and measurements done in an interval $[0, T]$:\n",
    "\n",
    "$$ \\sigma ^2 = \\frac{S}{\\int_0^T f^2(t) dt}$$\n",
    "\n",
    "Where $f$ is the input signal form $f(t) = \\sum _k \\delta (t-t_k)$. It's then possible to evaluate the integral by noticing that the value of $f(t)$ can only be $1$ or $0$:\n",
    "$$ \\int_0^T f^2(t) dt = \\int_0^T (\\sum _k \\delta (t-t_k))^2 dt = \\int_0^T \\sum _k \\delta (t-t_k) dt = \\sum _k \\int_0^T \\sum _k \\delta (t-t_k) dt = \\sum _k T = N T$$\n",
    "\n",
    "where N is the number of particles arrived in the interval $[0, T]$.\n",
    "\n",
    "Finally, the minimum variance is then (time interval has been renamed as $[0, \\tau]$ in order to avoid confusion):\n",
    "$$ \\sigma ^2 = \\frac{S}{\\int_0^T f^2(t) dt} = (2 K_B T+ R S_0) \\frac{R}{1+\\omega ^2 (RC)^2} \\frac{1}{N\\tau}$$"
   ]
  }
 ],
 "metadata": {
  "kernelspec": {
   "display_name": "Python 3",
   "language": "python",
   "name": "python3"
  },
  "language_info": {
   "codemirror_mode": {
    "name": "ipython",
    "version": 3
   },
   "file_extension": ".py",
   "mimetype": "text/x-python",
   "name": "python",
   "nbconvert_exporter": "python",
   "pygments_lexer": "ipython3",
   "version": "3.8.6"
  },
  "latex_envs": {
   "LaTeX_envs_menu_present": true,
   "autoclose": false,
   "autocomplete": true,
   "bibliofile": "biblio.bib",
   "cite_by": "apalike",
   "current_citInitial": 1,
   "eqLabelWithNumbers": true,
   "eqNumInitial": 1,
   "hotkeys": {
    "equation": "Ctrl-E",
    "itemize": "Ctrl-I"
   },
   "labels_anchors": false,
   "latex_user_defs": false,
   "report_style_numbering": false,
   "user_envs_cfg": false
  }
 },
 "nbformat": 4,
 "nbformat_minor": 4
}
