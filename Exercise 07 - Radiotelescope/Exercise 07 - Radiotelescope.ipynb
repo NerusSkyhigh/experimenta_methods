{
 "cells": [
  {
   "cell_type": "markdown",
   "metadata": {},
   "source": [
    "# Exercise 07: Radiotelescope\n",
    "\n",
    "\\- Gugliemo Grillo"
   ]
  },
  {
   "cell_type": "markdown",
   "metadata": {},
   "source": [
    "<div><table>\n",
    "  <tr>\n",
    "    <td style=\"width: 45%\"><img src=\"https://i.ibb.co/5nGRFtm/Radiowave-test2020-1.png\"/></td>\n",
    "    <td style=\"width: 45%\"><img src=\"https://i.ibb.co/C5wZ6K6/Radiowave-test2020-2.png\"/></td>\n",
    "  </tr>\n",
    "  <tr><td style=\"width: 45%\"><img src=\"https://i.ibb.co/2jp0Vdm/Radiowave-test2020-3.png\"/></tr></td>\n",
    "    \n",
    "</table></div>"
   ]
  },
  {
   "cell_type": "markdown",
   "metadata": {},
   "source": [
    "#### 1.1-2 PSD\n",
    "The plot on page 1 provides the temperature required to evaluate the PSD. The output PSD can be obtained by multiplying by the square of the low pass transfer function.\n",
    "$|h(f)|^2 = \\frac{1}{1+(f/f_0)^2}$\n",
    "\n",
    "$$S_{V,V}^{sky}(\\omega=2\\pi f) = \\frac{\\gamma}{1+(f/f_0)^2} (T_{sky}+T_{rec})(2\\pi f_{lo}) ^2$$\n",
    "\n",
    "$$S_{V,V}^{cold}(\\omega=2\\pi f) = \\frac{\\gamma}{1+(f/f_0)^2} (T_{R}+T_{rec})(2\\pi f_{lo})^2$$\n",
    "\n",
    "Where $\\gamma=\\frac{4 k_b}{3 \\epsilon_0 c^3}$. The temperature is read by eye from the graph."
   ]
  },
  {
   "cell_type": "code",
   "execution_count": 3,
   "metadata": {},
   "outputs": [
    {
     "data": {
      "text/latex": [
       "$\\displaystyle Gamma\\ \\gamma = 7.71634e-38\\ [s^2\\ V^2 / (m^2\\ Hz\\ K)]$"
      ],
      "text/plain": [
       "<IPython.core.display.Math object>"
      ]
     },
     "metadata": {},
     "output_type": "display_data"
    }
   ],
   "source": [
    "# packages used\n",
    "import scipy.constants\n",
    "from scipy.integrate import quad\n",
    "\n",
    "import numpy as np\n",
    "import matplotlib.pyplot as plt\n",
    "import seaborn as sns\n",
    "\n",
    "from IPython.display import display, Math\n",
    "\n",
    "# Given constans\n",
    "kb = scipy.constants.Boltzmann\n",
    "Epsilon0 = scipy.constants.epsilon_0\n",
    "c = scipy.constants.c\n",
    "\n",
    "f0 = 10e6 #Hz\n",
    "Tn = { # I'll use the value found by the professor\n",
    "    '700MHz':{'sky': 16.0, 'rec':51.0, 'Rcold': 2},\n",
    "    '30MHz': {'sky': 2.8, 'rec': 38.0, 'Rcold': 2},\n",
    "     '2GHz': {'sky': 8.1, 'rec': 140.0,'Rcold': 2}\n",
    "}\n",
    "\n",
    "# Parameters redefinition\n",
    "gamma = 4*kb / (3*Epsilon0*c**3) # prefactor\n",
    "\n",
    "def PSD(flo, T, f):\n",
    "    return gamma*T*np.power(2*np.pi*flo, 2)/(1+ np.power(f/f0, 2) )\n",
    "\n",
    "display(Math(r'\\gamma = {:.5e}\\ [s^2\\ V^2 / (m^2\\ Hz\\ K)]'.format(gamma)))"
   ]
  },
  {
   "cell_type": "markdown",
   "metadata": {},
   "source": [
    "The numerator of the output PSD is the PSD that arrives at the low pass and is equal to:"
   ]
  },
  {
   "cell_type": "code",
   "execution_count": 9,
   "metadata": {},
   "outputs": [
    {
     "data": {
      "text/latex": [
       "$\\displaystyle \\text{Numerator: }700Mhz: 1.00010e-16\\ [V^2 / (m^2\\ Hz)]$"
      ],
      "text/plain": [
       "<IPython.core.display.Math object>"
      ]
     },
     "metadata": {},
     "output_type": "display_data"
    },
    {
     "data": {
      "text/latex": [
       "$\\displaystyle \\text{Numerator } R_{cold}:7.91121e-17\\ [V^2 / (m^2\\ Hz)]$"
      ],
      "text/plain": [
       "<IPython.core.display.Math object>"
      ]
     },
     "metadata": {},
     "output_type": "display_data"
    }
   ],
   "source": [
    "# As we set f=0 we are evaluating only the numerator of the transfer function\n",
    "PSD_TOT =  PSD(700e6, Tn['700MHz']['sky'],  f=0) + PSD(700e6, Tn['700MHz']['rec'], f=0)\n",
    "PSD_Rcold= PSD(700e6, Tn['700MHz']['Rcold'],f=0) + PSD(700e6, Tn['700MHz']['rec'], f=0)\n",
    "\n",
    "display(Math(r'\\text{Numerator: }'+'700Mhz: {:.5e}\\ [V^2 / (m^2\\ Hz)]'.format(PSD_TOT)))\n",
    "display(Math(r'\\text{Numerator } R_{cold}:'+ '{:.5e}'.format(PSD_Rcold)+'\\ [V^2 / (m^2\\ Hz)]'))"
   ]
  },
  {
   "cell_type": "markdown",
   "metadata": {},
   "source": [
    "#### 2. Temperature of the noise coming from the antenna.\n",
    "\n",
    "<!--\n",
    "The temperature of noise from the antenna can be evaluated by inverting the given relationship:\n",
    "$$(S_{V,V}^{sky} - S_{V,V}^{cold})(f) = \\frac{\\gamma}{1+(f/f_0)^2} (T_{sky}-T_{R})(2\\pi f_{lo}) ^2 \\longrightarrow\n",
    "T_{sky} =\\frac{1+(f/f_0)^2}{\\gamma (2\\pi f_{lo})^2 } (S_{V,V}^{sky} - S_{V,V}^{cold})(f) + T_{R}$$ -->\n",
    "\n",
    "\n",
    "As the output is squared and integrated over a time t we are evaluating the variance of the process. This can be extrapolated from the PSD as\n",
    "\n",
    "$$<E^2_{sky/R}> = R(0) = \\frac{1}{2\\pi}\\int_{-\\infty}^{+\\infty}S(\\omega)d\\omega = \\gamma (T_{sky/R} + T_{rec}) (2\\pi f_{lo})^2 \\pi f_0$$\n",
    "\n",
    "where $\\pi f_0$ is the result of the integral of the transfer function. It's then possible to invert this relation to get:\n",
    "\n",
    "$$T_{sky} = \\frac{<E^2_{sky}>-<E^2_{R}>}{\\gamma (2\\pi f_{lo})^2 \\pi f_0} + T_{R}$$\n",
    "\n",
    "\n",
    "The resolution on the individual measurements is given by the radiometric formula:\n",
    "\n",
    "$$\\frac{\\sigma_{E^2}}{E^2} = \\frac{1}{\\sqrt{t f_0}} \\longrightarrow \\sigma_{E^2} = \\frac{E^2}{\\sqrt{t f_0}} =  \\frac{\\gamma T (2\\pi f_{lo})^2 \\pi f_0}{\\sqrt{t f_0}}$$\n",
    "\n",
    "By combining the two errors it's possible to obtain the total error as a function of $\\sigma_{sky/R}$ which, in turn, depend on $t$:\n",
    "\n",
    "$$\\sigma_{T_{sky}} = \\frac{ \\sqrt{\\sigma ^2_{sky}+\\sigma^2 _r} }{\\gamma \\pi f_0 (2\\pi f_{lo})^2}$$\n",
    "\n",
    "To get a $5%$ relative resolution one needs to impose $\\frac{\\sigma_{T_{sky}}}{T_{sky}(f_{lo})} = 0.5$"
   ]
  },
  {
   "cell_type": "code",
   "execution_count": null,
   "metadata": {},
   "outputs": [],
   "source": [
    "# Here I'll make the calculations\n",
    "\n",
    "#Results: 0.001, 0.016, 0.025"
   ]
  },
  {
   "cell_type": "markdown",
   "metadata": {},
   "source": [
    "#### 4. Minimum achivable error\n",
    "\n",
    "This is a Wiener filter problem. As the carrier of the signal is at a frequency much higher than the cut off frequency ($f_s >> f_0$) the sinusoidal will be filtered by the low pass. The net signal is therefore:\n",
    "\n",
    "$$E_0 e^{- \\frac{(t-t_0)^2}{2 \\Delta t^2}} \\rightarrow \\mathcal{FT} \\rightarrow E_0 \\frac{e^{-\\Delta t \\omega ^2 /2}\\sqrt{2\\pi}\\Delta t}{1+i 2\\pi f/f_0}$$\n",
    "\n",
    "The minimum error can be evaluated by assuming with noise and a perpetual signal:\n",
    "\n",
    "$$ \\sigma ^2 = \\frac{1}{\\frac{1}{2\\pi} \\int_{-\\infty}^{+\\infty} SNR(\\omega) dw}$$\n",
    "\n",
    "with\n",
    "\n",
    "$$ SNR(\\omega) = \\frac{\\frac{e^{-\\Delta t \\omega ^2 /2}\\sqrt{2\\pi}\\Delta t}{1+i 2\\pi f/f_0}}{S_{V,V}(\\omega=2\\pi f_s)}$$\n",
    "\n",
    "The temperature used are $T_{sky}=2.9K$ and $T_{rec} = 37K$."
   ]
  },
  {
   "cell_type": "markdown",
   "metadata": {},
   "source": [
    "#### 5. Power transmitted\n",
    "\n",
    "The power can be evaluated with the formula provided: $P = I A =\\frac{1}{2} \\epsilon_0 c A [E(t)]^2 $ while the FT can be asked to Wolfram Alpha."
   ]
  }
 ],
 "metadata": {
  "kernelspec": {
   "display_name": "Python 3",
   "language": "python",
   "name": "python3"
  },
  "language_info": {
   "codemirror_mode": {
    "name": "ipython",
    "version": 3
   },
   "file_extension": ".py",
   "mimetype": "text/x-python",
   "name": "python",
   "nbconvert_exporter": "python",
   "pygments_lexer": "ipython3",
   "version": "3.8.6"
  },
  "latex_envs": {
   "LaTeX_envs_menu_present": true,
   "autoclose": false,
   "autocomplete": true,
   "bibliofile": "biblio.bib",
   "cite_by": "apalike",
   "current_citInitial": 1,
   "eqLabelWithNumbers": true,
   "eqNumInitial": 1,
   "hotkeys": {
    "equation": "Ctrl-E",
    "itemize": "Ctrl-I"
   },
   "labels_anchors": false,
   "latex_user_defs": false,
   "report_style_numbering": false,
   "user_envs_cfg": false
  }
 },
 "nbformat": 4,
 "nbformat_minor": 4
}
