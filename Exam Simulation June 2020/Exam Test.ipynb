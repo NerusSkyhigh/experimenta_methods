{
 "cells": [
  {
   "cell_type": "markdown",
   "metadata": {},
   "source": [
    "# Exercise 08 - Mach Zender Interferometer and Motion sensor\n",
    "\n",
    "\\- Gugliemo Grillo"
   ]
  },
  {
   "cell_type": "markdown",
   "metadata": {},
   "source": [
    "<div><table>\n",
    "    <tr>\n",
    "        <td style=\"width: 33%\"><img src=\"https://i.ibb.co/2nGL84S/Experimental-Methods-Test-JJune2020-1.png\"/></td>\n",
    "        <td style=\"width: 33%\"><img src=\"https://i.ibb.co/VQKfs3y/Experimental-Methods-Test-JJune2020-2.png\"/></td>\n",
    "        <td style=\"width: 33%\"><img src=\"https://i.ibb.co/9wHDV7f/Experimental-Methods-Test-JJune2020-3.png\"/></td>\n",
    "    </tr>\n",
    "</table></div>\n",
    "\n",
    "<div><table>\n",
    "    <tr>\n",
    "        <td></td>\n",
    "        <td style=\"width: 66%\"><img src=\"https://i.ibb.co/4V20DGV/Experimental-Methods-Test-JJune2020-4.png\"/></td>\n",
    "        <td></td>\n",
    "    </tr>\n",
    "</table></div>"
   ]
  },
  {
   "cell_type": "markdown",
   "metadata": {},
   "source": [
    "## Question 1\n",
    "\n",
    "In order to simplify the calculation required the detector will be split in three blocks. The final output will be evaluated by the product of the frequency response in Fourier Domain.\n",
    "\n",
    "#### Block 1: Harmonic Oscillator \n",
    "\n",
    "The characteristic equation for the damped harmonic oscillator is:\n",
    "\n",
    "$$M \\ddot{x}(t) + c\\dot{x}(t) + k x(t) = F_{GW}(t) + F_{C}(t)$$\n",
    "\n",
    "$$M \\ddot{x}(t) + \\frac{2 \\pi \\nu}{Q}M \\dot{x}(t) + M(2\\pi \\mu)^2 x(t) = M\\ddot{h}(t)\\frac{l}{2}-\\frac{1}{2}Q_{tot}^2 \\frac{\\partial}{\\partial x}\\frac{1}{C(x)} $$\n",
    "\n",
    "The force acting on the cylinder due to the capacitor can be further threated:\n",
    "$$-\\frac{1}{2}Q_{tot}^2 \\frac{\\partial}{\\partial x}\\frac{1}{C(x)} = -\\frac{(Q_0 + Q)^2}{2} \\frac{\\partial}{\\partial x}\\frac{1}{\\frac{\\epsilon_0 A}{d_0-x}} = -\\frac{Q_0^2 + 2  Q_0 + Q^2}{2} \\frac{\\partial}{\\partial x}\\frac{1-x/d_0}{\\frac{\\epsilon_0 A}{d_0}} = \\bigl(\\frac{Q_0^2}{2}+Q_0\\ Q\\bigr) \\frac{1}{C_t d_0} = \\frac{Q_0^2}{2 C_t d_0}+\\mathcal{E}Q \\rightarrow  \\mathcal{E} Q$$\n",
    "\n",
    "Where first the terms $Q^2$ was discarded due to being small with respect to $Q_0$ and then the term $\\frac{Q_0^2}{2 C_t d_0}$ was dropped due to being considered in the equilibrium position. The total force due to the capacitor is therefore\n",
    "$$F_c = \\mathcal{E} Q$$\n",
    "\n",
    "#### Block 2: Harmonic Oscillator "
   ]
  }
 ],
 "metadata": {
  "kernelspec": {
   "display_name": "Python 3",
   "language": "python",
   "name": "python3"
  },
  "language_info": {
   "codemirror_mode": {
    "name": "ipython",
    "version": 3
   },
   "file_extension": ".py",
   "mimetype": "text/x-python",
   "name": "python",
   "nbconvert_exporter": "python",
   "pygments_lexer": "ipython3",
   "version": "3.8.6"
  },
  "latex_envs": {
   "LaTeX_envs_menu_present": true,
   "autoclose": false,
   "autocomplete": true,
   "bibliofile": "biblio.bib",
   "cite_by": "apalike",
   "current_citInitial": 1,
   "eqLabelWithNumbers": true,
   "eqNumInitial": 1,
   "hotkeys": {
    "equation": "Ctrl-E",
    "itemize": "Ctrl-I"
   },
   "labels_anchors": false,
   "latex_user_defs": false,
   "report_style_numbering": false,
   "user_envs_cfg": false
  }
 },
 "nbformat": 4,
 "nbformat_minor": 4
}
