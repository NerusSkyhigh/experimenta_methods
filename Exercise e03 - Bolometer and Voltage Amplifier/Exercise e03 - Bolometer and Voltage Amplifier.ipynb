{
 "cells": [
  {
   "cell_type": "markdown",
   "metadata": {},
   "source": [
    "# Exercise e03 - Bolometer and Voltage Amplifier\n",
    "\n",
    "\\- Gugliemo Grillo"
   ]
  },
  {
   "cell_type": "markdown",
   "metadata": {},
   "source": [
    "<div><img style=\"width: 45%\" src=\"https://i.ibb.co/NNCtn04/Final-Instructionsexercises-8.png\"/></div>"
   ]
  },
  {
   "cell_type": "markdown",
   "metadata": {},
   "source": [
    "#### Total PSD at the Amplifier's input\n",
    "The definitions of the noise temperature and the noise resistance are:\n",
    "\n",
    "$$E_n(\\omega) = k_b T_n(\\omega) = \\sqrt{ S_{V,V}(\\omega) S_{I,I}(\\omega)}$$\n",
    "\n",
    "$$R_n(\\omega) = \\sqrt{\\frac{S_{V,V}(\\omega)}{S_{I,I}(\\omega)}}$$\n",
    "\n",
    "By inverting those relations one get the Voltage PSD and the Current PDS due to the amplifier:\n",
    "\n",
    "$$ S_{V,V}(\\omega) = k_b T_n(\\omega) R_n(\\omega)$$\n",
    "\n",
    "$$S_{I,I}(\\omega) = k_b \\frac{T_n(\\omega)}{R_n(\\omega)}$$\n",
    "\n",
    "The other source of noise is the thermal noise of the resistor which can be estimated with Nyquist law:\n",
    "\n",
    "$$ S_{V,V}^R(\\omega) = 2 k_b T R \\ \\text{ or }\\ S_{I,I}^R(\\omega) = 2 k_b T\\frac{1}{R}$$\n",
    "\n",
    "Depending on the noise required. T is the temperature at which the circuit operates. The total voltage PSD at the amplifier's input is therefore:\n",
    "\n",
    "$$ S_{V,V}^{tot}(\\omega) = S_{V,V}(\\omega) + |h(\\omega)|^2 S_{I,I}(\\omega) + S_{V,V}^R(\\omega) = k_b T_n(\\omega) R_n(\\omega) + R^2 k_b \\frac{T_n(\\omega)}{R_n(\\omega)} +  2 k_b T R $$"
   ]
  },
  {
   "cell_type": "markdown",
   "metadata": {},
   "source": [
    "#### Minimum detectable energy after a short pulse\n",
    "Short version: The Noise energy is the minimum detectable energy, therefore the answer is $\\simeq E_n(\\omega)$.\n",
    "\n",
    "Long version:\n",
    "A short pulse can be seen as a Dirac's delta impulse current: $I=\\delta(t)$. In the Fourier space this correspond to a unitary input $\\mathcal{FT}[\\delta(t)](\\omega)=1$. In the frequency domain the transfer function is $h(\\omega=2\\pi f) = R$. It's then possible to apply Wiener's optimal filter on a time interval $]-\\infty, +\\infty[$ as the impulse can be assumed isolated.\n",
    "\n",
    "$$\\sigma ^2 = \\frac{1}{\\frac{1}{2\\pi}\\int_{-\\infty}^{\\infty} \\frac{1}{S_{I,I}^{tot}(\\omega)}d\\omega}$$\n",
    "\n",
    "with\n",
    "\n",
    "$$ S_{I,I}^{tot}(\\omega) = k_b T_n(\\omega) \\frac{R_n(\\omega)}{R^2} + k_b \\frac{T_n(\\omega)}{R_n(\\omega)} +  2 k_b T\\frac{1}{R} $$\n",
    "\n",
    "In the low dissipation limit ($R\\rightarrow +\\infty$) and assuming that only one frequency, $f_{res}$ contributes significantly to the error, one gets:\n",
    "\n",
    "$$ S_{I,I}^{tot}(\\omega) = k_b T_n(\\omega) \\frac{R_n(\\omega)}{R^2} + k_b \\frac{T_n(\\omega)}{R_n(\\omega)} +  2 k_b T\\frac{1}{R} \\simeq k_b \\frac{T_n(\\omega)}{R_n(\\omega)} = \\frac{E_n(\\omega)}{R_n(\\omega)}$$\n",
    "\n",
    "$$\\sigma ^2 = \\frac{1}{\\frac{1}{2\\pi}\\int_{-\\infty}^{\\infty} \\frac{R_n(\\omega)}{E_n(\\omega)}d\\omega} \\simeq \\frac{1}{\\frac{1}{2\\pi} \\frac{R_n(\\omega_0)}{E_n(\\omega_0)} \\Delta \\omega} = \\frac{E_n(\\omega_0)}{R_n(\\omega_0)\\Delta f}$$\n",
    "\n",
    "As the noise energy can be freely set by impedance matching without affecting the noise energy, it's convenient to set it equal to $\\frac{1}{\\Delta f}$. With this trick it's possible to obtain the relation given in the short version.\n",
    "\n",
    "It's important to highlight that these results are just conjectures and numerical values for the various $R$, $T_n$, $R_n$ could drastically change the assumptions made. "
   ]
  },
  {
   "cell_type": "markdown",
   "metadata": {},
   "source": [
    "#### Minimum detectable amplitude with sinusoidal input\n",
    "\n",
    "The math is pretty much the same with the only difference lying in the the signal's template:\n",
    "\n",
    "$$ s(t) = A sin(2\\pi f_0 t) \\rightarrow \\mathcal{FT} \\rightarrow i\\pi \\bigl( \\delta(-2\\pi f_0 - \\omega) - \\delta(2\\pi f_0 - \\omega)\\bigr)$$"
   ]
  }
 ],
 "metadata": {
  "kernelspec": {
   "display_name": "Python 3",
   "language": "python",
   "name": "python3"
  },
  "language_info": {
   "codemirror_mode": {
    "name": "ipython",
    "version": 3
   },
   "file_extension": ".py",
   "mimetype": "text/x-python",
   "name": "python",
   "nbconvert_exporter": "python",
   "pygments_lexer": "ipython3",
   "version": "3.8.6"
  },
  "latex_envs": {
   "LaTeX_envs_menu_present": true,
   "autoclose": false,
   "autocomplete": true,
   "bibliofile": "biblio.bib",
   "cite_by": "apalike",
   "current_citInitial": 1,
   "eqLabelWithNumbers": true,
   "eqNumInitial": 1,
   "hotkeys": {
    "equation": "Ctrl-E",
    "itemize": "Ctrl-I"
   },
   "labels_anchors": false,
   "latex_user_defs": false,
   "report_style_numbering": false,
   "user_envs_cfg": false
  }
 },
 "nbformat": 4,
 "nbformat_minor": 4
}
