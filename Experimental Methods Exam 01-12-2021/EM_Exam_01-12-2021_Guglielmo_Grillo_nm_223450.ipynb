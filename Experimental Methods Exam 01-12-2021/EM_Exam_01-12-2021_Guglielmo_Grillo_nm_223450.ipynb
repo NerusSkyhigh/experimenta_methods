{
 "cells": [
  {
   "cell_type": "markdown",
   "metadata": {},
   "source": [
    "# Experimental Methods Exam January 2021\n",
    "\n",
    "\\- Gugliemo Grillo  \n",
    "MAT. 223450\n",
    "\n",
    "Zoom link: https://unitn.zoom.us/j/96470214715  \n",
    "Meeting ID: 964 7021 4715  \n",
    "Passcode: 278896\n",
    "\n",
    "Email:\n",
    "- [stefano.vitale@unitn.it](mailto:stefano.vitale@unitn.it)\n",
    "- [eleonora.castelli@unitn.it](mailto:eleonora.castelli@unitn.it)"
   ]
  },
  {
   "cell_type": "markdown",
   "metadata": {},
   "source": [
    "#### Question 1\n",
    "\n",
    "The sources of noise, with their relative PSD are:\n",
    "\n",
    "- The thermal noise of the resistor $R_p$: $S_{V,V}(\\omega) = 2 k_b T_{th} R_p$\n",
    "- The thermal noise of the resistor $R_f$: $S_{V,V}(\\omega) = 2 k_b T_{th} R_f$\n",
    "- The amplifier's noise sources $V_n$ and $I_n$\n",
    "\n",
    "The capacitor isn't take in account as it's supposed to be ideal and with only an imaginary component. The resistances PSD are obtained through Nyquist formula. \n",
    "\n",
    "The amplifier's noise sources can be evaluated from the quantity given in the following way:\n",
    "\n",
    "$$V_n(\\omega) = k_b T_n(\\omega) R_n(\\omega) = k_b T_n \\bigl(1+ \\frac{f_0}{f}\\bigr)R_n$$\n",
    "\n",
    "$$I_n(\\omega) = k_b T_n(\\omega)/R_n(\\omega) = k_b \\frac{T_n}{R_n}\\bigl(1+ \\frac{f_0}{f} \\bigr)$$\n",
    "\n",
    "All the PSD are reported as double sided PSD. One can transform them into one side PSD with the relation $S^{\\text{exp phy}}(\\omega) = 2 S(\\omega)$."
   ]
  },
  {
   "cell_type": "code",
   "execution_count": 1,
   "metadata": {},
   "outputs": [
    {
     "data": {
      "text/latex": [
       "$\\displaystyle k_b T_n R_n=2.3471e-18 V$"
      ],
      "text/plain": [
       "<IPython.core.display.Math object>"
      ]
     },
     "metadata": {},
     "output_type": "display_data"
    },
    {
     "data": {
      "text/latex": [
       "$\\displaystyle k_b \\frac{T_n}{R_n}=8.1215e-25\\ \\Omega^{-1}$"
      ],
      "text/plain": [
       "<IPython.core.display.Math object>"
      ]
     },
     "metadata": {},
     "output_type": "display_data"
    }
   ],
   "source": [
    "# packages used\n",
    "import scipy.constants # https://docs.scipy.org/doc/scipy/reference/constants.html\n",
    "from scipy.integrate import quad\n",
    "import numpy as np\n",
    "import matplotlib.pyplot as plt\n",
    "from IPython.display import display, Math\n",
    "\n",
    "\n",
    "# Given constans\n",
    "kb = scipy.constants.Boltzmann # J/K\n",
    "Tnoise = 100 # K\n",
    "Rnoise = 1.7e3 # Ohm\n",
    "f0 = 100 # Hz\n",
    "\n",
    "G = 10\n",
    "Tth = 293 # K\n",
    "C = 2.5e-12 #F\n",
    "Rp = 10 # Ohm\n",
    "Rf = 50e3 # Ohm\n",
    "A = 0.7 # V^-1\n",
    "\n",
    "Wt = 1.3e-6 # W\n",
    "DeltaT = 60 # s\n",
    "\n",
    "Fh = 500 # Hz\n",
    "\n",
    "# Noise Temperature\n",
    "Tn = lambda f: Tnoise*(1+f0/f)\n",
    "\n",
    "# Show value\n",
    "display(Math(r\"k_b T_n R_n=\"+\"{:.5} V\".format(kb*Tnoise*Rnoise)))\n",
    "display(Math(r\"k_b \\frac{T_n}{R_n}=\"+\"{:.5}\".format(kb*Tnoise/Rnoise )+r\"\\ \\Omega^{-1}\"))"
   ]
  },
  {
   "cell_type": "code",
   "execution_count": 2,
   "metadata": {},
   "outputs": [
    {
     "data": {
      "image/png": "[encoded data removed]",
      "text/plain": [
       "<Figure size 504x360 with 1 Axes>"
      ]
     },
     "metadata": {
      "needs_background": "light"
     },
     "output_type": "display_data"
    }
   ],
   "source": [
    "f = np.linspace(1, 100, int(1e6))\n",
    "y = Tn(f)/Tnoise\n",
    "\n",
    "plt.rcParams.update({'font.size': 13})\n",
    "\n",
    "fig, axis = plt.subplots(1,1, figsize=(7, 5))\n",
    "fig.suptitle(\"Plot of the Amplifier's Noises (up to a constant)\")\n",
    "\n",
    "axis.plot(f, y)\n",
    "axis.set_xlabel(\"Frequency $f$ [Hz]\")\n",
    "axis.set_ylabel(r\"$1+\\frac{f_0}{f}$\")\n",
    "axis.grid(True, which=\"both\")\n",
    "\n",
    "plt.tight_layout()\n",
    "plt.show()"
   ]
  },
  {
   "cell_type": "markdown",
   "metadata": {},
   "source": [
    "#### Question 2\n",
    "\n",
    "Regarding $R_p$:  \n",
    "It's voltage PSD can be propagated at input by noticing that the capacitor transforms the input current into an input voltage via $V(\\omega) = i \\omega C I(\\omega)$. Therefore $R_p$ contributes with a term:\n",
    "\n",
    "$$S_{R_p}^{in}(\\omega) = 2 k_b T_{th}R_p |\\frac{1}{i \\omega C}|^2$$\n",
    "\n",
    "Regarding $R_f$:  \n",
    "Its noise current $S_{R_f}(\\omega) = 2 k_b \\frac{T_{th}}{R_f}$ flows in the feedback branch of the feedback loop. The relation between the input current and the feedback current is\n",
    "\n",
    "$$i_{fb} = - \\frac{\\beta G}{1+\\beta G} i_e(\\omega) \\rightarrow \\frac{i_e}{i_{fb}} = -\\frac{1+\\beta G}{\\beta G} $$\n",
    "\n",
    "with $\\beta = R_f$ in our case. It's then possible to propagate the PSD and obtain:\n",
    "\n",
    "$$S_{R_r}(\\omega) =  |\\frac{1+R_f G}{R_f G}|^2\\ 2 k_b \\frac{T_{th}}{R_f} = \\frac{2 k_b T_{th}}{R_f} \\frac{(1+R_f G)^2}{R_f^2 G^2}$$\n",
    "\n",
    "This value needs to be propagated at input by sending it through the resistor to get the Voltage PSD and then through the capacitor:\n",
    "$$S_{R_r}^{in}(\\omega) = \\frac{2 k_b T_{th}}{R_f} \\frac{(1+R_f G)^2}{R_f^2 G^2}\\ |\\frac{R_p}{i\\omega C}|^2$$\n",
    "\n",
    "\n",
    "Regarding the Amplifier's noise sources:  \n",
    "$V_n$ is already a voltage PSD while $I_n$ needs to pass through $R_f$. After that both need to be propagated through the capacitor:\n",
    "\n",
    "$$S_{I_n}^{in}(\\omega) = k_b \\frac{T_n}{R_n}\\bigl(1+ \\frac{f_0}{f} \\bigr) |\\frac{R_p}{i\\omega C}|^2$$\n",
    "\n",
    "$$S_{V_n}^{in}(\\omega) = k_b T_n \\bigl(1+ \\frac{f_0}{f}\\bigr)R_n |\\frac{1}{i\\omega C}|^2$$\n",
    "\n",
    "To sum up, the total input PSD is\n",
    "\n",
    "$$S_{R_p}^{in}(\\omega) + S_{R_r}^{in}(\\omega) + S_{I_n}^{in}(\\omega) + S_{V_n}^{in}(\\omega) =\\\\\n",
    "2 k_b\\frac{T_{th}R_p}{\\omega^2 C^2} +\n",
    "\\frac{2 k_b T_{th}}{R_f} \\frac{(1+R_f G)^2}{R_f^2 G^2}\\ \\frac{R_p^2}{\\omega^2 C^2}+\n",
    "\\frac{k_b T_n}{R_n}\\bigl(1+ \\frac{f_0}{f} \\bigr)\\frac{R_p^2}{\\omega^2 C^2} +\n",
    "\\bigl(1+ \\frac{f_0}{f}\\bigr)\\frac{ k_b T_n R_n}{\\omega^2 C^2} = \\\\\n",
    "\\bigg[R_p + \\frac{(1+R_f G)^2}{R_f^2 G^2}\\ \\frac{R_p^2}{R_f}+\n",
    "\\frac{(R_p^2 + R_n^2)}{2 R_n} \\bigl(1+ \\frac{2\\pi f_0}{\\omega}\\bigr) \\bigg] \\frac{2 k_b T_{th}}{\\omega^2 C^2} = S_{tot}^{in}(\\omega)$$\n",
    "\n",
    "The PSD of an equivalent input optical power W can be evaluated by dividing everything by $A^2$\n",
    "\n",
    "$$S_{P,P}(\\omega) = \\bigg[R_p + \\frac{(1+R_f G)^2}{R_f^2 G^2}\\ \\frac{R_p^2}{R_f}+\n",
    "\\frac{(R_p^2 + R_n^2)}{2 R_n} \\bigl(1+ \\frac{2\\pi f_0}{\\omega}\\bigr) \\bigg] \\frac{2 k_b T_{th}}{\\omega^2 C^2 A^2}$$\n",
    "\n",
    "\n",
    "It's possible to notice that inside the square brackets there is the sum of somethings that have the units of $\\Omega$ this implies that probably no math mistake was made.\n",
    "\n",
    "The total PSD can be rewritten as\n",
    "$$S_{P,P}(\\omega) = \\bigg[R_1 + R_2 \\bigl(1+ \\frac{2\\pi f_0}{\\omega}\\bigr) \\bigg] \\frac{R_3}{\\omega^2}$$\n",
    "\n",
    "with: $R_1 = R_p + \\frac{(1+R_f G)^2}{R_f^2 G^2}\\ \\frac{R_p^2}{R_f}$; $R_2 = \\frac{(R_p^2 + R_n^2)}{2 R_n}$; $R_3 = \\frac{2 k_b T_{th}}{C^2 A^2}$\n",
    "\n",
    "Where the notation $R_3$ was chosen despite not being expressed in $\\Omega$ as $R_1$ and $R_2$."
   ]
  },
  {
   "cell_type": "code",
   "execution_count": 13,
   "metadata": {},
   "outputs": [
    {
     "data": {
      "text/latex": [
       "$\\displaystyle R_1=10.002 \\Omega$"
      ],
      "text/plain": [
       "<IPython.core.display.Math object>"
      ]
     },
     "metadata": {},
     "output_type": "display_data"
    },
    {
     "data": {
      "text/latex": [
       "$\\displaystyle R_2=850.029 \\Omega$"
      ],
      "text/plain": [
       "<IPython.core.display.Math object>"
      ]
     },
     "metadata": {},
     "output_type": "display_data"
    },
    {
     "data": {
      "text/latex": [
       "$\\displaystyle R_3=2641.830\\ \\frac{J V^2}{F^2}$"
      ],
      "text/plain": [
       "<IPython.core.display.Math object>"
      ]
     },
     "metadata": {},
     "output_type": "display_data"
    }
   ],
   "source": [
    "R1 = Rp + (Rp**2 / Rf)*((1+Rf*G)/(Rf*G))**2\n",
    "R2 = (Rp**2 + Rnoise**2)/(2*Rnoise)\n",
    "R3 = (2*kb*Tth)/(C**2 * A**2)\n",
    "display(Math('R_1={:.3f} \\Omega'.format(R1)) )\n",
    "display(Math('R_2={:.3f} \\Omega'.format(R2)) )\n",
    "display(Math('R_3={:.3f}'.format(R3)+r\"\\ \\frac{J V^2}{F^2}\") )"
   ]
  },
  {
   "cell_type": "code",
   "execution_count": 4,
   "metadata": {},
   "outputs": [
    {
     "data": {
      "image/png": "[encoded data removed]",
      "text/plain": [
       "<Figure size 504x360 with 1 Axes>"
      ]
     },
     "metadata": {
      "needs_background": "light"
     },
     "output_type": "display_data"
    }
   ],
   "source": [
    "def PSDtot(f):\n",
    "    Reqiv =  R1+ R2* (1+f0/f)  \n",
    "    return Reqiv*R3/np.power(2*np.pi*f, 2)\n",
    "\n",
    "f = np.linspace(-(1e3), 1e3, int(1e6))\n",
    "PSD = PSDtot(f)\n",
    "\n",
    "# Bode plot\n",
    "plt.rcParams.update({'font.size': 13})\n",
    "\n",
    "fig, axis = plt.subplots(1,1, figsize=(7, 5))\n",
    "fig.suptitle(\"Total PSD at input\")\n",
    "\n",
    "axis.plot(f, PSD)\n",
    "#axis.set_yscale('log')\n",
    "axis.set_xlabel(\"Frequency $f$ [Hz]\")\n",
    "axis.set_ylabel(r\"$S_{P,P}(f)$\")\n",
    "axis.grid(True, which=\"both\")\n",
    "axis.set_ylim([-50, 50])\n",
    "\n",
    "plt.tight_layout()\n",
    "plt.show()"
   ]
  },
  {
   "cell_type": "markdown",
   "metadata": {},
   "source": [
    "#### Question 3\n",
    "\n",
    "This is a Wiener's problem. The signal has the form $s(t)= M f(t)=M \\bigl( \\Theta(t) - \\Theta(t-\\Delta T) \\bigr)$ with $M=W_t\\ 10^{-0.4 m}$. Wiener's theory states that the minimum error is equal to:\n",
    "\n",
    "$$ \\sigma_{M}^2 = \\frac{1}{\\frac{1}{2\\pi}\\int_{-\\infty}^{+\\infty} \\frac{|f(\\omega)|^2}{S(\\omega)} d\\omega}$$\n",
    "Where $f(\\omega)$ is the Fourier transform of the signal's template:\n",
    "\n",
    "$$f(\\omega) = \\mathcal{FT}\\bigl[ \\bigl( \\Theta(t) - \\Theta(t-\\Delta T) \\bigr) \\bigr](\\omega) = \\frac{i(e^{-i\\Delta T \\omega}-1)}{\\omega}$$\n",
    "\n",
    "The $\\mathcal{FT}$ was evaluated with [WolframAlpha](https://www.wolframalpha.com/input/?i=Fourier+transform+%28Theta%28t%29-Theta%28t-A%29+%29) (normalization factor=1, oscillator factor=-1 to respect the convention used in the lectures). This is just an other form of the translated sinc.\n",
    "\n",
    "One can write the signal to noise ratio as\n",
    "\n",
    "$$ SNR(\\omega) = \\frac{|f(\\omega)|^2}{S(\\omega)} = \\frac{|i(e^{-i\\Delta T \\omega}-1)|}{R_3} \\frac{\\omega}{(R_1 + R_2)\\omega + 2\\pi f_0 R_2} = \\frac{2-2 cos(\\Delta T \\omega)}{R_3} \\frac{\\omega}{(R_1 + R_2)\\omega + 2\\pi f_0 R_2}$$\n",
    "\n",
    "\n",
    "The integral can be evaluated numerically:"
   ]
  },
  {
   "cell_type": "code",
   "execution_count": 5,
   "metadata": {},
   "outputs": [
    {
     "name": "stderr",
     "output_type": "stream",
     "text": [
      "<ipython-input-5-fec884e921a5>:8: IntegrationWarning: The algorithm does not converge.  Roundoff error is detected\n",
      "  in the extrapolation table.  It is assumed that the requested tolerance\n",
      "  cannot be achieved, and that the returned result (if full_output = 1) is \n",
      "  the best which can be obtained.\n",
      "  I = quad(integrand, -np.inf, np.inf, limit=100)\n"
     ]
    },
    {
     "data": {
      "text/latex": [
       "$\\displaystyle \\text{Value of the integral: }$I=36.387198909$\\text{   Absolute error: }7.1e+01$"
      ],
      "text/plain": [
       "<IPython.core.display.Math object>"
      ]
     },
     "metadata": {},
     "output_type": "display_data"
    },
    {
     "data": {
      "text/latex": [
       "$\\displaystyle \\sigma^2_M=0.173$"
      ],
      "text/plain": [
       "<IPython.core.display.Math object>"
      ]
     },
     "metadata": {},
     "output_type": "display_data"
    }
   ],
   "source": [
    "def template(omega):\n",
    "    return 1j*(np.exp(-1j*DeltaT*omega) -1)/omega\n",
    "\n",
    "def integrand(omega):\n",
    "    f = omega / (2*np.pi)\n",
    "    return np.power( np.abs(template(omega)),2 )/ PSDtot(f)\n",
    "\n",
    "I = quad(integrand, -np.inf, np.inf, limit=100)\n",
    "display(Math(r'$\\text{Value of the integral: }$'+'I={:.9f}'.format(I[0])+\n",
    "             r'$\\text{   Absolute error: }'+'{:.2}'.format(I[1]) ))\n",
    "        \n",
    "sigma2 = 2*np.pi/I[0]\n",
    "display(Math('\\sigma^2_M={:.3f}'.format(sigma2)) )"
   ]
  },
  {
   "cell_type": "markdown",
   "metadata": {},
   "source": [
    "This integral does not converges due to the discontinuity at $\\omega = -\\frac{2\\pi f_0 R_2}{R_1 + R_2}$. A way to solve this problem may be to use the \"Data whitening\" and use the Wiener's theory for finite interval and white noise. "
   ]
  },
  {
   "cell_type": "code",
   "execution_count": 6,
   "metadata": {},
   "outputs": [
    {
     "data": {
      "text/latex": [
       "$\\displaystyle -\\frac{2\\pi f_0 R_2}{R_1 + R_2}=-621.011$"
      ],
      "text/plain": [
       "<IPython.core.display.Math object>"
      ]
     },
     "metadata": {},
     "output_type": "display_data"
    }
   ],
   "source": [
    "display(Math(r'-\\frac{2\\pi f_0 R_2}{R_1 + R_2}='+'{:.3f}'.format(-2*np.pi*f0*R2/(R1+R2)) ))"
   ]
  },
  {
   "cell_type": "markdown",
   "metadata": {},
   "source": [
    "### Question 4\n",
    "\n",
    "The chopper multiplies the signal by a square wave $\\frac{1+Sign( sin(2\\pi f_h t))}{2}$. As $\\omega_0 = 2\\pi f_h\\simeq 3000 Hz$ the signal can be expanded as a Taylor series so that:\n",
    "\n",
    "$$1+Sign( sin(|omega_0 t)) \\simeq \\frac{1}{2} \\bigl[ 1+\\frac{4}{\\pi} sin(\\omega_0 t)+...\\bigr] \\rightarrow \\frac{1+Sign( sin(\\omega_0 t) )}{2} \\simeq \\frac{1}{4}+\\frac{sin(\\omega_0 t)}{\\pi} $$\n",
    "\n",
    "The new signal template is therefore\n",
    "$$ f(t) = \\frac{1}{4}+\\frac{sin(\\omega_0 t)}{\\pi}$$\n",
    "\n",
    "$$ f(\\omega) = \\frac{\\pi}{2}\\delta(\\omega) - i\\bigl[ \\delta(\\omega-\\omega_0) - \\delta(\\omega+\\omega_0) \\bigr]$$\n",
    "\n",
    "By applying Wiener's theory:\n",
    "\n",
    "$$ \\sigma_{M}^2 = \\bigg[ \\frac{1}{2\\pi}\\int_{-\\infty}^{+\\infty} \\frac{|f(\\omega)|^2}{S(\\omega)} d\\omega \\bigg]^{-1} = \\bigg[ \\frac{1}{2\\pi}\\int_{-\\infty}^{+\\infty} \\frac{|\\frac{\\pi}{2}\\delta(\\omega) - i\\bigl[ \\delta(\\omega-\\omega_0) - \\delta(\\omega+\\omega_0) \\bigr]|^2}{S(\\omega)} d\\omega \\bigg]^{-1}$$\n",
    "\n",
    "Which can be separated in the sum of three contributes at the frequencies $0, \\omega_0, -\\omega_0$.\n",
    "\n",
    "$$ \\sigma_{M}^2 = 2\\pi \\bigg[ \\frac{\\pi^2}{4 S(0)}+ \\frac{1}{S(\\omega_0)} + \\frac{1}{S(-\\omega_0)}\\bigg]^{-1}$$\n",
    "\n",
    "\n",
    "The minimum detectable power (squared) is therefore:"
   ]
  },
  {
   "cell_type": "code",
   "execution_count": 7,
   "metadata": {},
   "outputs": [
    {
     "data": {
      "text/latex": [
       "$\\displaystyle \\sigma^2_W=0.694958263$"
      ],
      "text/plain": [
       "<IPython.core.display.Math object>"
      ]
     },
     "metadata": {},
     "output_type": "display_data"
    }
   ],
   "source": [
    "# PSDtot(1e-100) instead of PSDtot(0) is used to avoid division by zero.\n",
    "#For phyton that's an error, but in reality the two omega would cancel with on an other.\n",
    "sigma2 = 2*np.pi/(np.pi**2/(4*PSDtot(1e-100)) + 1/PSDtot(Fh) + 1/(PSDtot(-Fh)) )\n",
    "\n",
    "display(Math('\\sigma^2_W={:.9f}'.format(sigma2)) ) "
   ]
  },
  {
   "cell_type": "markdown",
   "metadata": {},
   "source": [
    "To evaluate the maximum detectable magnitude is sufficient to invert the relation $W = W_t 10^{-0.4 m} \\rightarrow m=-2.5\\ Log(\\frac{\\sigma_{W}}{W_t})$ "
   ]
  },
  {
   "cell_type": "code",
   "execution_count": 8,
   "metadata": {},
   "outputs": [
    {
     "data": {
      "text/latex": [
       "$\\displaystyle m=-32.97$"
      ],
      "text/plain": [
       "<IPython.core.display.Math object>"
      ]
     },
     "metadata": {},
     "output_type": "display_data"
    }
   ],
   "source": [
    "display(Math('m={:.2f}'.format(-2.5*np.log(sigma2/Wt))) ) "
   ]
  }
 ],
 "metadata": {
  "kernelspec": {
   "display_name": "Python 3",
   "language": "python",
   "name": "python3"
  },
  "language_info": {
   "codemirror_mode": {
    "name": "ipython",
    "version": 3
   },
   "file_extension": ".py",
   "mimetype": "text/x-python",
   "name": "python",
   "nbconvert_exporter": "python",
   "pygments_lexer": "ipython3",
   "version": "3.8.6"
  },
  "latex_envs": {
   "LaTeX_envs_menu_present": true,
   "autoclose": false,
   "autocomplete": true,
   "bibliofile": "biblio.bib",
   "cite_by": "apalike",
   "current_citInitial": 1,
   "eqLabelWithNumbers": true,
   "eqNumInitial": 1,
   "hotkeys": {
    "equation": "Ctrl-E",
    "itemize": "Ctrl-I"
   },
   "labels_anchors": false,
   "latex_user_defs": false,
   "report_style_numbering": false,
   "user_envs_cfg": false
  }
 },
 "nbformat": 4,
 "nbformat_minor": 4
}
