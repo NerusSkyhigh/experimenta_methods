{
 "cells": [
  {
   "cell_type": "markdown",
   "metadata": {},
   "source": [
    "# Exercise 08 - Mach Zender Interferometer and Motion sensor\n",
    "\n",
    "\\- Gugliemo Grillo"
   ]
  },
  {
   "cell_type": "markdown",
   "metadata": {},
   "source": [
    "<div><table>\n",
    "    <tr>\n",
    "        <td style=\"width: 33%\"><img src=\"https://i.postimg.cc/Gpk23V8Y/Interferomer-Exercise-1.png\"/></td>\n",
    "        <td style=\"width: 33%\"><img src=\"https://i.postimg.cc/SRwFMQHK/Interferomer-Exercise-2.png\"/></td>\n",
    "        <td style=\"width: 33%\"><img src=\"https://i.postimg.cc/j53rR4XP/Interferomer-Exercise-3.png\"/></td>\n",
    "    </tr>\n",
    "</table></div>\n",
    "\n",
    "\n",
    "### The Nyquist frequency of the signal is missing and it's $f_n = 5\\ Hz$"
   ]
  },
  {
   "cell_type": "markdown",
   "metadata": {},
   "source": [
    "#### Question 1\n",
    "The frequency response can be constructed with the pieces given in the text:\n",
    "\n",
    "$$\\Delta V = V_{PD,1}-V_{PD,2} = \\frac{V_0}{1+i\\frac{f}{f_{PD}}} \\frac{E_{PD,1}^2-E_{PD,2}^2}{E_0^2}$$\n",
    "\n",
    "The problem is then moved to the determination of the Fourier transform of $E_{PD,1}^2-E_{PD,2}^2$. Neglecting all the sources of noise the electrical fields can be rewritten as:\n",
    "\n",
    "$$ E_{beam,1} = E_0 sin(\\omega t+\\Delta \\phi) $$\n",
    "\n",
    "$$ E_{beam,2} = E_0 sin\\bigl( (\\omega+\\Delta \\omega)(t+\\delta t)\\bigr) $$\n",
    "\n",
    "Where the following parameters have been defined according to the professor's advice: $\\omega = 2\\pi(f_0 + f_1)$, $\\Delta \\omega=2\\pi(f_2 - f_1)$, $t = t_1$, $\\delta t = t_2 - t_1$. The difference of the squares can then be rewritten as:\n",
    "\n",
    "$$ \\frac{E_{PD,1}^2-E_{PD,2}^2}{E_0^2} = 4 sin(\\omega t+\\Delta \\phi) sin\\bigl( (\\omega+\\Delta \\omega)(t+\\delta t)\\bigr) =\n",
    "2 \\bigl(cos(\\Delta \\phi - \\omega \\delta t - \\Delta \\omega t - \\Delta \\omega \\delta t) - cos(2\\omega t+\\Delta \\phi + \\omega \\delta t + \\Delta \\omega t + \\Delta \\omega \\delta t) \\bigr)$$\n",
    "\n",
    "Where the Prostaferesi's formula (or product-to-sum forumula) $2 sin(\\frac{p+q}{2})sin(\\frac{p-q}{2}) = cos(q)-cos(p)$ with $\\frac{p+q}{2} = $ and $\\frac{p-q}{2} = $ has been used. The values of p and q can easily be found by adding and subtracting the two equation one with respect to the other.\n",
    "\n",
    "Now let's consider the two terms individually:\n",
    "\n",
    "- $cos(\\Delta \\phi - \\omega \\delta t - \\Delta \\omega t - \\Delta \\omega \\delta t)$ this term oscillates at a (angular) frequency $\\Delta \\omega = 2\\pi(f_2 - f_1) = 2\\pi \\ Mhz$. The rest is just a phase.\n",
    "- $ cos(2\\omega t+\\Delta \\phi + \\omega \\delta t + \\Delta \\omega t + \\Delta \\omega \\delta t)$ this term oscillates at a frequency  $2\\omega \\simeq 0.8\\ GHz$. As the photodiodes have a cutoff frequency of $1\\ GHz$ this terms can be neglected with respect to the other. Furthermore the phase-sensitive detector will probably have a roll-off frequency much smaller.\n",
    "\n",
    "**NB:** in a previous draft here I proceeded by evaluating the Fourier transform of the cosine and then linearize in the frequency domain. This lead to wrong results as linearizing in the FD doesn't preserve the structure of the function (intrinsic symmetries), thus varying the information enclosed in the signal. The correct way to precede is to linearize in the time domain and then evaluating the Fourier transform.\n",
    "\n",
    "As $\\Delta \\phi << 1$ it's possible to use the addition formula for the cosine on the term left and get:\n",
    "\n",
    "$$cos\\bigl(\\Delta \\phi - (\\omega \\delta t + \\Delta \\omega t + \\Delta \\omega \\delta t)\\bigr) =\n",
    "cos(\\Delta \\phi)cos(\\omega \\delta t + \\Delta \\omega t + \\Delta \\omega \\delta t) + sin(\\Delta \\phi)sin(\\omega \\delta t + \\Delta \\omega t + \\Delta \\omega \\delta t) \\simeq cos(\\omega \\delta t + \\Delta \\omega t + \\Delta \\omega \\delta t) + \\Delta \\phi\\ sin(\\omega \\delta t + \\Delta \\omega t + \\Delta \\omega \\delta t)$$\n",
    "\n",
    "whose Fourier transform is:\n",
    "$$\\mathcal{FT}\\bigl[cos(\\Delta \\omega t + \\bar{\\omega} \\delta t + \\Delta \\omega \\delta t) + \\Delta \\phi\\ sin(\\Delta \\omega t + \\bar{\\omega} \\delta t+ \\Delta \\omega \\delta t)\\bigr] =$$\n",
    "$$e^{-i\\omega (\\bar{\\omega} \\delta t + \\Delta \\omega \\delta t)} \\pi \\bigl[ \\bigl( \\delta(\\omega - \\Delta \\omega) + \\delta(\\omega + \\Delta \\omega) \\bigr) - i \\Delta \\phi \\ \\bigl( \\delta(\\omega - \\Delta \\omega) + \\delta(\\omega - \\Delta \\omega) \\bigr) \\bigr]$$\n",
    "\n",
    "Where $\\omega \\rightarrow \\bar{\\omega}$ was chosen to avoid confusions with the angular frequency. To sum up:\n",
    "\n",
    "$$\\Delta V = V_{PD,1}-V_{PD,2} = \\frac{V_0}{1+i\\frac{2\\pi \\omega}{f_{PD}}} 2 e^{-i\\omega (\\bar{\\omega} \\delta t + \\Delta \\omega \\delta t)} \\pi \\bigl[ \\bigl( \\delta(\\omega - \\Delta \\omega) + \\delta(\\omega + \\Delta \\omega) \\bigr) - i \\Delta \\phi \\ \\bigl( \\delta(\\omega - \\Delta \\omega) + \\delta(\\omega - \\Delta \\omega) \\bigr) \\bigr] $$\n",
    "\n",
    "As the transform is zero except when $\\omega = \\pm \\Delta \\omega << f_{PD}$ it's possible to neglect the low pass $\\frac{1}{1+i\\frac{2\\pi \\Delta \\omega}{f_{PD}}} \\simeq 1$. The Fourier transform and the signal are therefore:\n",
    "\n",
    "\n",
    "$$\\Delta V(\\omega) = 2\\pi V_0 e^{-i\\Delta \\omega -(\\bar{\\omega}  + \\Delta \\omega )\\delta t} \\bigl[ \\bigl( \\delta(\\omega - \\Delta \\omega) + \\delta(\\omega + \\Delta \\omega) \\bigr) - i \\Delta \\phi \\ \\bigl( \\delta(\\omega - \\Delta \\omega) + \\delta(\\omega - \\Delta \\omega) \\bigr) \\bigr] $$\n",
    "\n",
    "$$\\Delta V (t) =  2 V_0\\ cos(\\Delta \\omega t+(\\bar{\\omega}  + \\Delta \\omega )\\delta t) + 2V_0 \\Delta \\phi \\ sin(\\Delta \\omega t+(\\bar{\\omega}  + \\Delta \\omega )\\delta t) $$"
   ]
  },
  {
   "cell_type": "markdown",
   "metadata": {},
   "source": [
    "#### Question 2\n",
    "\n",
    "As the phase $\\Delta \\phi$ is present only as a coefficient of the sine, the PhSD should multiply the signal by a reference signal of $\\frac{1}{2}sin(\\Delta \\omega t+(\\bar{\\omega}  + \\Delta \\omega )\\delta t)$. As the following low pass should not remove any information about the phase $\\Delta \\phi$, it's cut-off frequency should grater $f_N$ and of the same order of magnitude but within the constraint, due to the previous approximation, of $f_{ro} << 2(f_0 + f_1)$\n"
   ]
  },
  {
   "cell_type": "markdown",
   "metadata": {},
   "source": [
    "#### Question 3\n",
    "\n",
    "This question can be answered by carrying on the same math as before without discarding the noises and discarding every terms depending on $\\delta E ^2$."
   ]
  }
 ],
 "metadata": {
  "kernelspec": {
   "display_name": "Python 3",
   "language": "python",
   "name": "python3"
  },
  "language_info": {
   "codemirror_mode": {
    "name": "ipython",
    "version": 3
   },
   "file_extension": ".py",
   "mimetype": "text/x-python",
   "name": "python",
   "nbconvert_exporter": "python",
   "pygments_lexer": "ipython3",
   "version": "3.8.6"
  },
  "latex_envs": {
   "LaTeX_envs_menu_present": true,
   "autoclose": false,
   "autocomplete": true,
   "bibliofile": "biblio.bib",
   "cite_by": "apalike",
   "current_citInitial": 1,
   "eqLabelWithNumbers": true,
   "eqNumInitial": 1,
   "hotkeys": {
    "equation": "Ctrl-E",
    "itemize": "Ctrl-I"
   },
   "labels_anchors": false,
   "latex_user_defs": false,
   "report_style_numbering": false,
   "user_envs_cfg": false
  }
 },
 "nbformat": 4,
 "nbformat_minor": 4
}
